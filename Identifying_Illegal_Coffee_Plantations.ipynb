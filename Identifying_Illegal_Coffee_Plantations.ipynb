{
  "nbformat": 4,
  "nbformat_minor": 0,
  "metadata": {
    "colab": {
      "name": "Identifying Illegal Coffee Plantations.ipynb",
      "provenance": [],
      "collapsed_sections": []
    },
    "kernelspec": {
      "name": "python3",
      "display_name": "Python 3"
    },
    "accelerator": "GPU"
  },
  "cells": [
    {
      "cell_type": "markdown",
      "metadata": {
        "id": "UC_A597OOWts"
      },
      "source": [
        "# Homework 2: Identifying Illegal Coffee Plantations\n",
        "\n",
        "### Machine Learning and Computational Statistics (DSC6232)\n",
        "\n",
        "#### Instructors: Weiwei Pan, Melanie Fernandez, Pavlos Protopapas\n",
        "\n",
        "#### Due: July 3rd, 11:59pm Kigali time.\n"
      ]
    },
    {
      "cell_type": "markdown",
      "metadata": {
        "id": "9jeziq4DmVNy"
      },
      "source": [
        "**Team member 1:** Sharon Jepkorir Sawe\n",
        "\n",
        "**Team member 2:** Rozi Mlay Hieromini"
      ]
    },
    {
      "cell_type": "code",
      "metadata": {
        "id": "kmjKgNV6PRK5"
      },
      "source": [
        "# Import necessary libraries\n",
        "import numpy as np\n",
        "import pandas as pd\n",
        "from PIL import Image\n",
        "from keras.models import Sequential\n",
        "from keras.layers import Conv2D, MaxPooling2D\n",
        "from keras.layers import Activation, Dropout, Flatten, Dense\n",
        "from keras.optimizers import SGD\n",
        "from keras.regularizers import l2\n",
        "from sklearn.metrics import confusion_matrix, roc_auc_score\n",
        "from sklearn.model_selection import train_test_split\n",
        "from sklearn.metrics import f1_score, accuracy_score\n",
        "import matplotlib\n",
        "import matplotlib.pylab as plt\n",
        "from google.colab import files"
      ],
      "execution_count": null,
      "outputs": []
    },
    {
      "cell_type": "markdown",
      "metadata": {
        "id": "SUVfZT9EQ_bK"
      },
      "source": [
        "# Loading Competition Data\n",
        "Run all the steps below to obtain the data"
      ]
    },
    {
      "cell_type": "code",
      "metadata": {
        "id": "uq8eCx66PU5r",
        "colab": {
          "base_uri": "https://localhost:8080/"
        },
        "outputId": "f3744b3e-070a-4503-fecf-5bba3d49650b"
      },
      "source": [
        "# Read training data images\n",
        "X = np.loadtxt('https://raw.githubusercontent.com/onefishy/Rwanda-course-2020/master/Competition_data/X_train.txt') # read in the data as a DataFrame\n",
        "X.shape # show the shape of the dataset"
      ],
      "execution_count": null,
      "outputs": [
        {
          "output_type": "execute_result",
          "data": {
            "text/plain": [
              "(1440, 400)"
            ]
          },
          "metadata": {
            "tags": []
          },
          "execution_count": 2
        }
      ]
    },
    {
      "cell_type": "markdown",
      "metadata": {
        "id": "eQe9TNkOv-nP"
      },
      "source": [
        ""
      ]
    },
    {
      "cell_type": "code",
      "metadata": {
        "id": "q8NJVOQSeNgG",
        "colab": {
          "base_uri": "https://localhost:8080/"
        },
        "outputId": "502e8106-d350-4d12-9c50-17d01f993cab"
      },
      "source": [
        "# Read training data labels\n",
        "y = np.loadtxt('https://raw.githubusercontent.com/onefishy/Rwanda-course-2020/master/Competition_data/y_train.txt')\n",
        "y.shape # show the shape of the labels"
      ],
      "execution_count": null,
      "outputs": [
        {
          "output_type": "execute_result",
          "data": {
            "text/plain": [
              "(1440,)"
            ]
          },
          "metadata": {
            "tags": []
          },
          "execution_count": 3
        }
      ]
    },
    {
      "cell_type": "markdown",
      "metadata": {
        "id": "gynj9CTBey-c"
      },
      "source": [
        "# Now we are done with downloading data! \n",
        "* Try building a model inside this notebook by create additional cells below with code to specify and fit the model\n",
        "* If you are fitting large neural nets, make sure this google colab notebook is running on GPUs\n",
        "* Check Edit --> Notebook settings --> Hardware accelerator: GPU"
      ]
    },
    {
      "cell_type": "code",
      "metadata": {
        "id": "mMcc3aTGDTyl",
        "colab": {
          "base_uri": "https://localhost:8080/"
        },
        "outputId": "dbc1cccd-7b76-4cae-fdcf-bb8a9d75ff62"
      },
      "source": [
        "import imblearn\n",
        "# Generate and plot a synthetic imbalanced classification dataset\n",
        "from collections import Counter\n",
        "from sklearn.datasets import make_classification\n",
        "from matplotlib import pyplot\n",
        "from numpy import where\n",
        "#print(imblearn.__version__)\n",
        "counter = Counter(y)\n",
        "print(counter)"
      ],
      "execution_count": null,
      "outputs": [
        {
          "output_type": "stream",
          "text": [
            "Counter({0.0: 960, 1.0: 480})\n"
          ],
          "name": "stdout"
        },
        {
          "output_type": "stream",
          "text": [
            "/usr/local/lib/python3.6/dist-packages/sklearn/externals/six.py:31: FutureWarning: The module is deprecated in version 0.21 and will be removed in version 0.23 since we've dropped support for Python 2.7. Please rely on the official version of six (https://pypi.org/project/six/).\n",
            "  \"(https://pypi.org/project/six/).\", FutureWarning)\n",
            "/usr/local/lib/python3.6/dist-packages/sklearn/utils/deprecation.py:144: FutureWarning: The sklearn.neighbors.base module is  deprecated in version 0.22 and will be removed in version 0.24. The corresponding classes / functions should instead be imported from sklearn.neighbors. Anything that cannot be imported from sklearn.neighbors is now part of the private API.\n",
            "  warnings.warn(message, FutureWarning)\n"
          ],
          "name": "stderr"
        }
      ]
    },
    {
      "cell_type": "code",
      "metadata": {
        "id": "F9vApo2BFG-L",
        "colab": {
          "base_uri": "https://localhost:8080/",
          "height": 265
        },
        "outputId": "8ccfa7ee-0276-4d20-b111-4c2e7836aa53"
      },
      "source": [
        "# scatter plot of examples by class label\n",
        "for label, _ in counter.items():\n",
        "\trow_ix = where(y == label)[0]\n",
        "\tpyplot.scatter(X[row_ix, 0], X[row_ix, 1], label=str(label))\n",
        "pyplot.legend()\n",
        "pyplot.show()"
      ],
      "execution_count": null,
      "outputs": [
        {
          "output_type": "display_data",
          "data": {
            "image/png": "[encoded data removed]",
            "text/plain": [
              "<Figure size 432x288 with 1 Axes>"
            ]
          },
          "metadata": {
            "tags": [],
            "needs_background": "light"
          }
        }
      ]
    },
    {
      "cell_type": "code",
      "metadata": {
        "id": "tVtUqh2BHt0h",
        "colab": {
          "base_uri": "https://localhost:8080/"
        },
        "outputId": "2f99b48c-1863-4272-a20e-2cb3387f1831"
      },
      "source": [
        "# Balancing the classes using SMOTE technique\n",
        "\n",
        "from imblearn.over_sampling import SMOTE\n",
        "oversample = SMOTE()\n",
        "X, y = oversample.fit_resample(X, y)"
      ],
      "execution_count": null,
      "outputs": [
        {
          "output_type": "stream",
          "text": [
            "/usr/local/lib/python3.6/dist-packages/sklearn/utils/deprecation.py:87: FutureWarning: Function safe_indexing is deprecated; safe_indexing is deprecated in version 0.22 and will be removed in version 0.24.\n",
            "  warnings.warn(msg, category=FutureWarning)\n"
          ],
          "name": "stderr"
        }
      ]
    },
    {
      "cell_type": "code",
      "metadata": {
        "id": "mM5BzC1eTpXJ",
        "colab": {
          "base_uri": "https://localhost:8080/"
        },
        "outputId": "eca6c6a2-d91e-4f0d-cfdb-e89d87e5c98c"
      },
      "source": [
        "# Reshape the X's to have the correct dimensionality\n",
        "X = X.reshape(X.shape[0], 20, 20)\n",
        "print(X.shape)"
      ],
      "execution_count": null,
      "outputs": [
        {
          "output_type": "stream",
          "text": [
            "(1920, 20, 20)\n"
          ],
          "name": "stdout"
        }
      ]
    },
    {
      "cell_type": "code",
      "metadata": {
        "id": "iJ5eKLs4LBmB"
      },
      "source": [
        "# Split into train/test\n",
        "X_train, X_test, y_train, y_test = train_test_split(X, y, test_size=0.33)"
      ],
      "execution_count": null,
      "outputs": []
    },
    {
      "cell_type": "code",
      "metadata": {
        "id": "aaeoCcLjS8Wl",
        "colab": {
          "base_uri": "https://localhost:8080/"
        },
        "outputId": "9f1044fc-21fe-4859-9e51-816d9588800e"
      },
      "source": [
        "print(type(X_train))\n",
        "print(type(y_train))\n",
        "print(type(X_test))\n",
        "print(type(y_train))"
      ],
      "execution_count": null,
      "outputs": [
        {
          "output_type": "stream",
          "text": [
            "<class 'numpy.ndarray'>\n",
            "<class 'numpy.ndarray'>\n",
            "<class 'numpy.ndarray'>\n",
            "<class 'numpy.ndarray'>\n"
          ],
          "name": "stdout"
        }
      ]
    },
    {
      "cell_type": "code",
      "metadata": {
        "id": "wSn5TYA1TD5w",
        "colab": {
          "base_uri": "https://localhost:8080/"
        },
        "outputId": "019447cc-635b-4680-c77c-1d6d997d5279"
      },
      "source": [
        "print('Xtrain shape',X_train.shape)\n",
        "print('ytrain shape',y_train.shape)\n",
        "print('Xtest shape',X_test.shape)\n",
        "print('Xtest shape',X_test.shape)"
      ],
      "execution_count": null,
      "outputs": [
        {
          "output_type": "stream",
          "text": [
            "Xtrain shape (1286, 20, 20)\n",
            "ytrain shape (1286,)\n",
            "Xtest shape (634, 20, 20)\n",
            "Xtest shape (634, 20, 20)\n"
          ],
          "name": "stdout"
        }
      ]
    },
    {
      "cell_type": "code",
      "metadata": {
        "id": "E0lG0VSSKV_W",
        "colab": {
          "base_uri": "https://localhost:8080/"
        },
        "outputId": "250e397d-fa55-4178-9071-1a83c44f7876"
      },
      "source": [
        "# summarize the new class distribution\n",
        "counter = Counter(y)\n",
        "print(counter)"
      ],
      "execution_count": null,
      "outputs": [
        {
          "output_type": "stream",
          "text": [
            "Counter({1.0: 960, 0.0: 960})\n"
          ],
          "name": "stdout"
        }
      ]
    },
    {
      "cell_type": "code",
      "metadata": {
        "id": "FSus64Gr6A-U",
        "colab": {
          "base_uri": "https://localhost:8080/",
          "height": 336
        },
        "outputId": "26ea29a2-8778-42da-d873-856ff66547f1"
      },
      "source": [
        "# Make a bar chart showing the proportions of 0 labels and 1 labels in the training set\n",
        "fig, ax = plt.subplots(1, 1, figsize=(5, 5))\n",
        "# Percentage of training data labeled 0\n",
        "percent_0 = len(y_train[y_train == 0]) * 1. / len(y_train)\n",
        "# Percentage of training data labeled 1\n",
        "percent_1 = len(y_train[y_train == 1]) * 1. / len(y_train)\n",
        "# Plot percentages in a bar plot\n",
        "ax.bar((0, 1), (percent_0, percent_1), color=['red', 'blue'], alpha=0.5, align='center')\n",
        "# Prettify the plot\n",
        "ax.set_xticks([0, 1])\n",
        "ax.set_title('Proportions of Labels in Training Data')\n",
        "plt.show()"
      ],
      "execution_count": null,
      "outputs": [
        {
          "output_type": "display_data",
          "data": {
            "image/png": "[encoded data removed]",
            "text/plain": [
              "<Figure size 360x360 with 1 Axes>"
            ]
          },
          "metadata": {
            "tags": [],
            "needs_background": "light"
          }
        }
      ]
    },
    {
      "cell_type": "code",
      "metadata": {
        "id": "IPA6N8r6espi"
      },
      "source": [
        "# Construct a Convolutional Neural Network\n",
        "\n",
        "# Step 1: Set the stride size\n",
        "stride_size = (2, 2)\n",
        "\n",
        "# Step 2: Set the pool size\n",
        "pool_size = (2, 2)\n",
        "\n",
        "# Step 3: define a sequential object\n",
        "cnn_model = Sequential()\n",
        "\n",
        "# Step 4: add a convolutional layer \n",
        "cnn_model.add(\n",
        "    Conv2D(100, kernel_size=3, padding='same', activation='relu',\n",
        "           input_shape=(X_train.shape[-2], X_train.shape[-1], 1),\n",
        "))\n",
        "## Adding more convolutional layers\n",
        "cnn_model.add(\n",
        "    Conv2D(115, kernel_size=3, padding='same', activation='relu'))\n",
        "cnn_model.add(\n",
        "    Conv2D(125, kernel_size=3, padding='same', activation='relu'))\n",
        "cnn_model.add(\n",
        "    Conv2D(135, kernel_size=3, padding='same', activation='relu'))\n",
        "# cnn_model.add(\n",
        "#     Conv2D(140, kernel_size=3, padding='same', activation='relu'))\n",
        "# cnn_model.add(\n",
        "#     Conv2D(145, kernel_size=3, padding='same', activation='relu'))\n",
        "\n",
        "# Step 5: add a max pooling layer\n",
        "cnn_model.add(MaxPooling2D(pool_size=pool_size, strides=stride_size))\n",
        "\n",
        "# Addding more max pooling layers\n",
        "cnn_model.add(MaxPooling2D(pool_size=pool_size, strides=stride_size))\n",
        "# cnn_model.add(MaxPooling2D(pool_size=pool_size, strides=stride_size))\n",
        "\n",
        "# Step 6: flatten\n",
        "cnn_model.add(Flatten())\n",
        "\n",
        "# Step 7: add a dense layer\n",
        "cnn_model.add(Dense(10, activation='tanh'))\n",
        "\n",
        "# Step 8: use sigmoid activation to output a probability\n",
        "cnn_model.add(Dense(1, activation='sigmoid'))\n",
        "\n",
        "# Step 8: select the learning rate\n",
        "lr = 0.01\n",
        "\n",
        "# Step 10: Compile model \n",
        "cnn_model.compile(optimizer=SGD(lr=lr),\n",
        "                  loss='binary_crossentropy',\n",
        "                  metrics=['accuracy'])"
      ],
      "execution_count": null,
      "outputs": []
    },
    {
      "cell_type": "code",
      "metadata": {
        "id": "ePmatHB_NOqe"
      },
      "source": [
        "# X_train = X_train.reshape(-1,20, 20, 1)\n",
        "# x_test = x_test.reshape(-1,28, 28, 1)"
      ],
      "execution_count": null,
      "outputs": []
    },
    {
      "cell_type": "code",
      "metadata": {
        "id": "Up1jOM6ujIOG"
      },
      "source": [
        "# #X_train=X_train.reshape([-1,1286, 400,1])\n",
        "# X_train = X_train.reshape(1286, 400,1)\n",
        "# print(X_train.shape)"
      ],
      "execution_count": null,
      "outputs": []
    },
    {
      "cell_type": "code",
      "metadata": {
        "id": "w1aFJILBygn1"
      },
      "source": [
        "# # Reweighing the classes\n",
        "# from sklearn.utils import class_weight\n",
        "# class_weights = class_weight.compute_class_weight('balanced',\n",
        "#                                                  np.unique(y_train),\n",
        "#                                                  y_train)"
      ],
      "execution_count": null,
      "outputs": []
    },
    {
      "cell_type": "code",
      "metadata": {
        "id": "0rHzNXPdzxOk"
      },
      "source": [
        "\n",
        "\n",
        "# class_weights"
      ],
      "execution_count": null,
      "outputs": []
    },
    {
      "cell_type": "code",
      "metadata": {
        "id": "XWmAUpDo21p4"
      },
      "source": [
        "# Fit the model\n",
        "history = cnn_model.fit(np.expand_dims(X_train, axis=-1), y_train,batch_size=200, epochs=150, verbose=0)"
      ],
      "execution_count": null,
      "outputs": []
    },
    {
      "cell_type": "code",
      "metadata": {
        "id": "BH2uIYuS27GG",
        "colab": {
          "base_uri": "https://localhost:8080/",
          "height": 336
        },
        "outputId": "f424a7a4-53f7-4578-cb54-0853db1f91c3"
      },
      "source": [
        "# Plot the loss function and the evaluation metric over the course of training\n",
        "fig, ax = plt.subplots(1, 1, figsize=(10, 5))\n",
        "ax.plot(np.array(history.history['accuracy']), color='blue', label='training accuracy')\n",
        "ax.plot(np.array(history.history['loss']), color='red', label='training loss')\n",
        "ax.set_title('optimizer={}, learning rate={}'.format('SGD', lr))\n",
        "ax.legend(loc='upper right')\n",
        "plt.show()"
      ],
      "execution_count": null,
      "outputs": [
        {
          "output_type": "display_data",
          "data": {
            "image/png": "[encoded data removed]",
            "text/plain": [
              "<Figure size 720x360 with 1 Axes>"
            ]
          },
          "metadata": {
            "tags": [],
            "needs_background": "light"
          }
        }
      ]
    },
    {
      "cell_type": "code",
      "metadata": {
        "id": "w7MBwenG3XYk",
        "colab": {
          "base_uri": "https://localhost:8080/"
        },
        "outputId": "5595d03d-44bb-4587-9186-9785b7448976"
      },
      "source": [
        "\n",
        "\n",
        "\n",
        "# Step 1: make prediction on test data\n",
        "y_pred = cnn_model.predict(np.expand_dims(X_test, axis=-1))\n",
        "\n",
        "# Step 2: threthold the output probabilities\n",
        "y_pred = (y_pred >= 0.5) * 1.0\n",
        "\n",
        "\n",
        "# Step 3: print the confusion matrix\n",
        "print('Confusion Matrix:')\n",
        "print(confusion_matrix(y_test, y_pred))\n"
      ],
      "execution_count": null,
      "outputs": [
        {
          "output_type": "stream",
          "text": [
            "Confusion Matrix:\n",
            "[[292  25]\n",
            " [ 35 282]]\n"
          ],
          "name": "stdout"
        }
      ]
    },
    {
      "cell_type": "code",
      "metadata": {
        "id": "ygxe4kLi9AZa"
      },
      "source": [
        "#(140+141)/(140+175+20+141)"
      ],
      "execution_count": null,
      "outputs": []
    },
    {
      "cell_type": "code",
      "metadata": {
        "colab": {
          "base_uri": "https://localhost:8080/"
        },
        "id": "mRcS8QyO9tE5",
        "outputId": "a3f40a5f-e6bc-4dd3-9d06-399c4823ed89"
      },
      "source": [
        "accuracy_score(y_test, y_pred)"
      ],
      "execution_count": null,
      "outputs": [
        {
          "output_type": "execute_result",
          "data": {
            "text/plain": [
              "0.9053627760252366"
            ]
          },
          "metadata": {
            "tags": []
          },
          "execution_count": 25
        }
      ]
    },
    {
      "cell_type": "markdown",
      "metadata": {
        "id": "6tRyx76epip-"
      },
      "source": [
        "### Evaluate your predictions using the macro-F1 score"
      ]
    },
    {
      "cell_type": "code",
      "metadata": {
        "id": "aXV98E5SphCv",
        "colab": {
          "base_uri": "https://localhost:8080/"
        },
        "outputId": "41d8f300-f72d-4c5a-e27e-e9db6ae6da1e"
      },
      "source": [
        "f1_score(y_test, y_pred, average='macro')"
      ],
      "execution_count": null,
      "outputs": [
        {
          "output_type": "execute_result",
          "data": {
            "text/plain": [
              "0.9053392259913999"
            ]
          },
          "metadata": {
            "tags": []
          },
          "execution_count": 26
        }
      ]
    },
    {
      "cell_type": "markdown",
      "metadata": {
        "id": "tQsdoWjWe5J2"
      },
      "source": [
        "# Use your model to predict on the test data, create a submission file\n",
        "Your submission file should follow the Kaggle submission template.\n"
      ]
    },
    {
      "cell_type": "code",
      "metadata": {
        "id": "6Vo9o4WGe2S0",
        "colab": {
          "base_uri": "https://localhost:8080/",
          "height": 35
        },
        "outputId": "f5db9228-2500-4bfe-86d5-ffa1cc4c41f1"
      },
      "source": [
        "# Read training data images\n",
        "X_holdout = pd.read_csv('https://raw.githubusercontent.com/onefishy/Rwanda-course-2020/master/Competition_data/X_test_df.csv') # read in the data as a DataFrame\n",
        "X_holdout.shape # show the shape of the dataset"
      ],
      "execution_count": null,
      "outputs": [
        {
          "output_type": "execute_result",
          "data": {
            "text/plain": [
              "(476, 401)"
            ]
          },
          "metadata": {
            "tags": []
          },
          "execution_count": 195
        }
      ]
    },
    {
      "cell_type": "code",
      "metadata": {
        "id": "T5Dgj1R-qtVq",
        "colab": {
          "base_uri": "https://localhost:8080/",
          "height": 35
        },
        "outputId": "e87d4efd-e952-4fa1-da15-15ba59e4c986"
      },
      "source": [
        "X_holdout = X_holdout.values[:, 1:]\n",
        "\n",
        "# Reshape the X's to have the correct dimensionality\n",
        "X_holdout = X_holdout.reshape(X_holdout.shape[0], 20, 20)\n",
        "print(X_holdout.shape)"
      ],
      "execution_count": null,
      "outputs": [
        {
          "output_type": "stream",
          "text": [
            "(476, 20, 20)\n"
          ],
          "name": "stdout"
        }
      ]
    },
    {
      "cell_type": "code",
      "metadata": {
        "id": "55--QNjjfP2j"
      },
      "source": [
        "# Save your predictions to a DataFrame\n",
        "my_predictions = cnn_model.predict(np.expand_dims(X_holdout, axis=-1))\n",
        "# Step 2: threthold the output probabilities\n",
        "my_predictions = (my_predictions >= 0.5) * 1.0\n",
        "\n",
        "\n",
        "my_submission = pd.DataFrame(np.arange(len(my_predictions)), columns=['index'])\n",
        "my_submission['label'] = my_predictions.astype(int)\n",
        "\n",
        "# Save submission file\n",
        "my_submission.to_csv('my_submission.csv', index=None)"
      ],
      "execution_count": null,
      "outputs": []
    },
    {
      "cell_type": "markdown",
      "metadata": {
        "id": "E1I-XP6DfY4d"
      },
      "source": [
        "# Save and download the submission file and upload to the Kaggle website\n",
        "\n",
        "Then download `my_submission.csv` by running the following line and submit to the [Kaggle](https://www.kaggle.com/t/b9bc778c9e8842d28c5526f578e6c348) compeition website."
      ]
    },
    {
      "cell_type": "code",
      "metadata": {
        "id": "RQTq9PeafTx3",
        "colab": {
          "base_uri": "https://localhost:8080/",
          "height": 17
        },
        "outputId": "2064a8c1-e568-4918-dc10-3cde20ab8162"
      },
      "source": [
        "files.download('my_submission.csv') "
      ],
      "execution_count": null,
      "outputs": [
        {
          "output_type": "display_data",
          "data": {
            "application/javascript": [
              "\n",
              "    async function download(id, filename, size) {\n",
              "      if (!google.colab.kernel.accessAllowed) {\n",
              "        return;\n",
              "      }\n",
              "      const div = document.createElement('div');\n",
              "      const label = document.createElement('label');\n",
              "      label.textContent = `Downloading \"${filename}\": `;\n",
              "      div.appendChild(label);\n",
              "      const progress = document.createElement('progress');\n",
              "      progress.max = size;\n",
              "      div.appendChild(progress);\n",
              "      document.body.appendChild(div);\n",
              "\n",
              "      const buffers = [];\n",
              "      let downloaded = 0;\n",
              "\n",
              "      const channel = await google.colab.kernel.comms.open(id);\n",
              "      // Send a message to notify the kernel that we're ready.\n",
              "      channel.send({})\n",
              "\n",
              "      for await (const message of channel.messages) {\n",
              "        // Send a message to notify the kernel that we're ready.\n",
              "        channel.send({})\n",
              "        if (message.buffers) {\n",
              "          for (const buffer of message.buffers) {\n",
              "            buffers.push(buffer);\n",
              "            downloaded += buffer.byteLength;\n",
              "            progress.value = downloaded;\n",
              "          }\n",
              "        }\n",
              "      }\n",
              "      const blob = new Blob(buffers, {type: 'application/binary'});\n",
              "      const a = document.createElement('a');\n",
              "      a.href = window.URL.createObjectURL(blob);\n",
              "      a.download = filename;\n",
              "      div.appendChild(a);\n",
              "      a.click();\n",
              "      div.remove();\n",
              "    }\n",
              "  "
            ],
            "text/plain": [
              "<IPython.core.display.Javascript object>"
            ]
          },
          "metadata": {
            "tags": []
          }
        },
        {
          "output_type": "display_data",
          "data": {
            "application/javascript": [
              "download(\"download_18136062-c59d-4b51-9819-3bcd39ad43cf\", \"my_submission.csv\", 2758)"
            ],
            "text/plain": [
              "<IPython.core.display.Javascript object>"
            ]
          },
          "metadata": {
            "tags": []
          }
        }
      ]
    },
    {
      "cell_type": "code",
      "metadata": {
        "id": "hE9SAcIr9AQR"
      },
      "source": [
        ""
      ],
      "execution_count": null,
      "outputs": []
    }
  ]
}